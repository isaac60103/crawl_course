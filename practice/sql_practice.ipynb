{
 "cells": [
  {
   "cell_type": "code",
   "execution_count": 1,
   "metadata": {},
   "outputs": [],
   "source": [
    "# -*- coding: utf-8 -*-\n",
    "import requests\n",
    "import pandas as pd\n",
    "import sqlite3 as sql"
   ]
  },
  {
   "cell_type": "code",
   "execution_count": 2,
   "metadata": {},
   "outputs": [],
   "source": [
    "df = pd.read_csv(\"./house.csv\")\n",
    "# connect to db. if db is not exist, it will create a new one\n",
    "conn = sql.connect(\"house.db\")"
   ]
  },
  {
   "cell_type": "code",
   "execution_count": 3,
   "metadata": {},
   "outputs": [],
   "source": [
    "# insert dataframe into table. If table exist, it would replace it\n",
    "df.to_sql(\"house_table\", conn, if_exists=\"replace\")"
   ]
  },
  {
   "cell_type": "code",
   "execution_count": 4,
   "metadata": {},
   "outputs": [
    {
     "name": "stdout",
     "output_type": "stream",
     "text": [
      "   index  size  rooms   price\n",
      "0      0  2104      3  399900\n",
      "1      1  1600      3  329900\n",
      "2      2  2400      3  369000\n",
      "3      3  1416      2  232000\n",
      "4      4  3000      4  539900\n"
     ]
    }
   ],
   "source": [
    "# query from DB \n",
    "df_query = pd.read_sql_query(\"select * from house_table;\", conn).head()\n",
    "print(df_query.head())"
   ]
  }
 ],
 "metadata": {
  "kernelspec": {
   "display_name": "Python 3",
   "language": "python",
   "name": "python3"
  },
  "language_info": {
   "codemirror_mode": {
    "name": "ipython",
    "version": 3
   },
   "file_extension": ".py",
   "mimetype": "text/x-python",
   "name": "python",
   "nbconvert_exporter": "python",
   "pygments_lexer": "ipython3",
   "version": "3.6.3"
  }
 },
 "nbformat": 4,
 "nbformat_minor": 2
}
