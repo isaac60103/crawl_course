{
 "cells": [
  {
   "cell_type": "code",
   "execution_count": 65,
   "metadata": {
    "scrolled": true
   },
   "outputs": [
    {
     "data": {
      "text/html": [
       "<div>\n",
       "<style scoped>\n",
       "    .dataframe tbody tr th:only-of-type {\n",
       "        vertical-align: middle;\n",
       "    }\n",
       "\n",
       "    .dataframe tbody tr th {\n",
       "        vertical-align: top;\n",
       "    }\n",
       "\n",
       "    .dataframe thead th {\n",
       "        text-align: right;\n",
       "    }\n",
       "</style>\n",
       "<table border=\"1\" class=\"dataframe\">\n",
       "  <thead>\n",
       "    <tr style=\"text-align: right;\">\n",
       "      <th></th>\n",
       "      <th>日期</th>\n",
       "      <th>成交股數</th>\n",
       "      <th>成交金額</th>\n",
       "      <th>開盤價</th>\n",
       "      <th>最高價</th>\n",
       "      <th>最低價</th>\n",
       "      <th>收盤價</th>\n",
       "      <th>漲跌價差</th>\n",
       "      <th>成交筆數</th>\n",
       "      <th>美元／新台幣</th>\n",
       "      <th>人民幣／新台幣</th>\n",
       "      <th>歐元／美元</th>\n",
       "      <th>美元／日幣</th>\n",
       "      <th>英鎊／美元</th>\n",
       "      <th>澳幣／美元</th>\n",
       "      <th>美元／港幣</th>\n",
       "      <th>美元／人民幣</th>\n",
       "      <th>美元／南非幣</th>\n",
       "      <th>紐幣／美元</th>\n",
       "    </tr>\n",
       "  </thead>\n",
       "  <tbody>\n",
       "    <tr>\n",
       "      <th>62</th>\n",
       "      <td>2017/11/30</td>\n",
       "      <td>112,262,770</td>\n",
       "      <td>25,539,072,296</td>\n",
       "      <td>226.5</td>\n",
       "      <td>230.5</td>\n",
       "      <td>226.0</td>\n",
       "      <td>226.0</td>\n",
       "      <td>-8.5</td>\n",
       "      <td>21,352</td>\n",
       "      <td>30.010</td>\n",
       "      <td>4.536972</td>\n",
       "      <td>1.18590</td>\n",
       "      <td>112.295</td>\n",
       "      <td>1.34635</td>\n",
       "      <td>0.75735</td>\n",
       "      <td>7.80820</td>\n",
       "      <td>6.61455</td>\n",
       "      <td>13.63700</td>\n",
       "      <td>0.68410</td>\n",
       "    </tr>\n",
       "    <tr>\n",
       "      <th>61</th>\n",
       "      <td>2017/11/29</td>\n",
       "      <td>26,535,797</td>\n",
       "      <td>6,234,161,137</td>\n",
       "      <td>235.0</td>\n",
       "      <td>236.0</td>\n",
       "      <td>234.5</td>\n",
       "      <td>234.5</td>\n",
       "      <td>0.5</td>\n",
       "      <td>6,976</td>\n",
       "      <td>29.990</td>\n",
       "      <td>4.544505</td>\n",
       "      <td>1.18680</td>\n",
       "      <td>111.465</td>\n",
       "      <td>1.34190</td>\n",
       "      <td>0.75895</td>\n",
       "      <td>7.80500</td>\n",
       "      <td>6.59920</td>\n",
       "      <td>13.60860</td>\n",
       "      <td>0.69135</td>\n",
       "    </tr>\n",
       "    <tr>\n",
       "      <th>60</th>\n",
       "      <td>2017/11/28</td>\n",
       "      <td>47,834,178</td>\n",
       "      <td>11,198,457,400</td>\n",
       "      <td>234.5</td>\n",
       "      <td>235.0</td>\n",
       "      <td>233.0</td>\n",
       "      <td>234.0</td>\n",
       "      <td>-3.0</td>\n",
       "      <td>15,262</td>\n",
       "      <td>30.001</td>\n",
       "      <td>4.544851</td>\n",
       "      <td>1.19040</td>\n",
       "      <td>111.300</td>\n",
       "      <td>1.33285</td>\n",
       "      <td>0.76000</td>\n",
       "      <td>7.80330</td>\n",
       "      <td>6.60110</td>\n",
       "      <td>13.75110</td>\n",
       "      <td>0.69250</td>\n",
       "    </tr>\n",
       "    <tr>\n",
       "      <th>59</th>\n",
       "      <td>2017/11/27</td>\n",
       "      <td>32,247,327</td>\n",
       "      <td>7,696,717,391</td>\n",
       "      <td>240.0</td>\n",
       "      <td>240.0</td>\n",
       "      <td>237.0</td>\n",
       "      <td>237.0</td>\n",
       "      <td>-7.0</td>\n",
       "      <td>14,743</td>\n",
       "      <td>30.006</td>\n",
       "      <td>4.548369</td>\n",
       "      <td>1.19385</td>\n",
       "      <td>111.240</td>\n",
       "      <td>1.33340</td>\n",
       "      <td>0.76185</td>\n",
       "      <td>7.80200</td>\n",
       "      <td>6.59710</td>\n",
       "      <td>14.03940</td>\n",
       "      <td>0.68810</td>\n",
       "    </tr>\n",
       "    <tr>\n",
       "      <th>58</th>\n",
       "      <td>2017/11/24</td>\n",
       "      <td>11,404,453</td>\n",
       "      <td>2,777,319,771</td>\n",
       "      <td>242.0</td>\n",
       "      <td>244.5</td>\n",
       "      <td>241.5</td>\n",
       "      <td>244.0</td>\n",
       "      <td>1.5</td>\n",
       "      <td>3,910</td>\n",
       "      <td>30.010</td>\n",
       "      <td>4.544654</td>\n",
       "      <td>1.18445</td>\n",
       "      <td>111.420</td>\n",
       "      <td>1.33135</td>\n",
       "      <td>0.76115</td>\n",
       "      <td>7.80785</td>\n",
       "      <td>6.60335</td>\n",
       "      <td>13.94585</td>\n",
       "      <td>0.68705</td>\n",
       "    </tr>\n",
       "  </tbody>\n",
       "</table>\n",
       "</div>"
      ],
      "text/plain": [
       "            日期         成交股數            成交金額    開盤價    最高價    最低價    收盤價  漲跌價差  \\\n",
       "62  2017/11/30  112,262,770  25,539,072,296  226.5  230.5  226.0  226.0  -8.5   \n",
       "61  2017/11/29   26,535,797   6,234,161,137  235.0  236.0  234.5  234.5   0.5   \n",
       "60  2017/11/28   47,834,178  11,198,457,400  234.5  235.0  233.0  234.0  -3.0   \n",
       "59  2017/11/27   32,247,327   7,696,717,391  240.0  240.0  237.0  237.0  -7.0   \n",
       "58  2017/11/24   11,404,453   2,777,319,771  242.0  244.5  241.5  244.0   1.5   \n",
       "\n",
       "      成交筆數  美元／新台幣   人民幣／新台幣    歐元／美元    美元／日幣    英鎊／美元    澳幣／美元    美元／港幣  \\\n",
       "62  21,352  30.010  4.536972  1.18590  112.295  1.34635  0.75735  7.80820   \n",
       "61   6,976  29.990  4.544505  1.18680  111.465  1.34190  0.75895  7.80500   \n",
       "60  15,262  30.001  4.544851  1.19040  111.300  1.33285  0.76000  7.80330   \n",
       "59  14,743  30.006  4.548369  1.19385  111.240  1.33340  0.76185  7.80200   \n",
       "58   3,910  30.010  4.544654  1.18445  111.420  1.33135  0.76115  7.80785   \n",
       "\n",
       "     美元／人民幣    美元／南非幣    紐幣／美元  \n",
       "62  6.61455  13.63700  0.68410  \n",
       "61  6.59920  13.60860  0.69135  \n",
       "60  6.60110  13.75110  0.69250  \n",
       "59  6.59710  14.03940  0.68810  \n",
       "58  6.60335  13.94585  0.68705  "
      ]
     },
     "execution_count": 65,
     "metadata": {},
     "output_type": "execute_result"
    }
   ],
   "source": [
    "#讀取資料\n",
    "import pandas as pd\n",
    "import pandas.io.sql as pd_sql\n",
    "import sqlite3 as sql\n",
    "\n",
    "#從CSV讀取\n",
    "df = pd.read_csv('../data/fp_demo3.csv')\n",
    "\n",
    "#從sqLite讀取\n",
    "#conn = sql.connect(\"../data/twse.db\")\n",
    "#df = pd.read_sql_query(\"select * from demo3;\", conn)\n",
    "\n",
    "df.sort_index(ascending=False).head()"
   ]
  },
  {
   "cell_type": "code",
   "execution_count": 66,
   "metadata": {},
   "outputs": [],
   "source": [
    "#定義準備train data方法\n",
    "def regData(x):\n",
    "    #格式化數字\n",
    "    for i, row in x.iterrows():\n",
    "        x.loc[i, '成交股數'] = row['成交股數'].replace(',', '')\n",
    "        x.loc[i, '成交筆數'] = row['成交筆數'].replace(',', '')\n",
    "    #做normalization(第i天資料/i-1天資料)\n",
    "    for i, row in X.iterrows():\n",
    "        if i <= len(X)-2:\n",
    "            x.loc[i, '成交股數'] = int(x.loc[i+1, '成交股數'])/int(x.loc[i, '成交股數'])\n",
    "            x.loc[i, '成交筆數'] = int(x.loc[i+1, '成交筆數'])/int(x.loc[i, '成交筆數'])\n",
    "            x.loc[i, '美元／新台幣'] = x.loc[i+1, '美元／新台幣']/x.loc[i, '美元／新台幣']\n",
    "    return x.head(60) #不取最後一筆\n",
    "\n",
    "#定義LinearRegression對應data\n",
    "def linReg(y):\n",
    "    y.drop(0, axis=0, inplace=True)\n",
    "    y = y.reset_index(drop=True)\n",
    "    return y\n",
    "\n",
    "#定義LogisticRegression對應data\n",
    "def logReg(y):\n",
    "    #將價差=0定義為 1 (漲), 價差<=0定義為 0 (跌)\n",
    "    y.drop(0, axis=0, inplace=True)\n",
    "    y = y.reset_index(drop=True)\n",
    "    for i, row in y.iterrows():\n",
    "        if y.loc[i, '漲跌價差'] >= 0:\n",
    "            y.loc[i, '漲跌價差'] = 1\n",
    "        else:\n",
    "            y.loc[i, '漲跌價差'] = 0\n",
    "    return y['漲跌價差']\n",
    "    \n",
    "#取得必要欄位，以前40筆作為training data\n",
    "X = df[['成交股數', '成交筆數', '美元／新台幣']].head(61)\n",
    "X = regData(X)\n",
    "\n",
    "y = linReg(df[['收盤價']].head(61)) #LinearRegression\n",
    "#y = logReg(df[['漲跌價差']].head(61)) #LogisticRegression\n",
    "\n",
    "#分割資料\n",
    "from sklearn.model_selection import train_test_split\n",
    "\n",
    "# Split X and y into X_\n",
    "X_train, X_test, y_train, y_test = train_test_split(X, y, test_size=0.25, random_state=1)"
   ]
  },
  {
   "cell_type": "code",
   "execution_count": 67,
   "metadata": {},
   "outputs": [
    {
     "data": {
      "text/plain": [
       "LinearRegression(copy_X=True, fit_intercept=True, n_jobs=1, normalize=False)"
      ]
     },
     "execution_count": 67,
     "metadata": {},
     "output_type": "execute_result"
    }
   ],
   "source": [
    "#建立LinearRegression模型\n",
    "from sklearn.linear_model import LinearRegression, LogisticRegression\n",
    "\n",
    "regression_model = LinearRegression() #LinearRegression\n",
    "#regression_model = LogisticRegression() #LogisticRegression\n",
    "regression_model.fit(X_train, y_train)"
   ]
  },
  {
   "cell_type": "code",
   "execution_count": 68,
   "metadata": {},
   "outputs": [
    {
     "name": "stdout",
     "output_type": "stream",
     "text": [
      "The coefficient for 成交股數 is -2.237144808754211\n",
      "The coefficient for 成交筆數 is 2.9345060103166665\n",
      "The coefficient for 美元／新台幣 is -1476.0151801544862\n"
     ]
    }
   ],
   "source": [
    "#各data係數\n",
    "for idx, col_name in enumerate(X_train.columns):\n",
    "    print(\"The coefficient for {} is {}\".format(col_name, regression_model.coef_[0][idx]))"
   ]
  },
  {
   "cell_type": "code",
   "execution_count": 69,
   "metadata": {},
   "outputs": [
    {
     "name": "stdout",
     "output_type": "stream",
     "text": [
      "The intercept for our model is 1704.4954876615016\n"
     ]
    }
   ],
   "source": [
    "#截距\n",
    "intercept = regression_model.intercept_[0]\n",
    "\n",
    "print(\"The intercept for our model is {}\".format(intercept))"
   ]
  },
  {
   "cell_type": "code",
   "execution_count": 70,
   "metadata": {},
   "outputs": [
    {
     "name": "stdout",
     "output_type": "stream",
     "text": [
      "[[ 230.78166356]\n",
      " [ 228.84328984]\n",
      " [ 227.84486076]\n",
      " [ 228.62244208]\n",
      " [ 232.64241423]\n",
      " [ 230.82590603]\n",
      " [ 228.85845089]\n",
      " [ 229.10932056]\n",
      " [ 228.52830826]\n",
      " [ 230.54590136]\n",
      " [ 228.40001522]\n",
      " [ 229.1506387 ]\n",
      " [ 229.57895133]\n",
      " [ 231.82406421]\n",
      " [ 230.26469398]]\n"
     ]
    },
    {
     "data": {
      "text/plain": [
       "-0.51347350717272344"
      ]
     },
     "execution_count": 70,
     "metadata": {},
     "output_type": "execute_result"
    }
   ],
   "source": [
    "#使用testing data準確率\n",
    "predictions = regression_model.predict(X_test)\n",
    "#印出testing data之預測結果\n",
    "print(predictions)\n",
    "#準確率\n",
    "regression_model.score(X_test, y_test)"
   ]
  },
  {
   "cell_type": "code",
   "execution_count": 71,
   "metadata": {},
   "outputs": [],
   "source": [
    "import pickle\n",
    "\n",
    "#保存訓練好的Model\n",
    "with open('../data/lin_r_model.pickle', 'wb') as f: #LinearRegression\n",
    "#with open('../data/log_r_model.pickle', 'wb') as f: #LogisticRegression\n",
    "    pickle.dump(regression_model, f)"
   ]
  },
  {
   "cell_type": "code",
   "execution_count": null,
   "metadata": {},
   "outputs": [],
   "source": []
  }
 ],
 "metadata": {
  "kernelspec": {
   "display_name": "Python 3",
   "language": "python",
   "name": "python3"
  },
  "language_info": {
   "codemirror_mode": {
    "name": "ipython",
    "version": 3
   },
   "file_extension": ".py",
   "mimetype": "text/x-python",
   "name": "python",
   "nbconvert_exporter": "python",
   "pygments_lexer": "ipython3",
   "version": "3.5.2"
  }
 },
 "nbformat": 4,
 "nbformat_minor": 2
}
