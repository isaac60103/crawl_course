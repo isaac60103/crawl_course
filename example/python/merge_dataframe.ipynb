{
 "cells": [
  {
   "cell_type": "code",
   "execution_count": 5,
   "metadata": {
    "collapsed": true
   },
   "outputs": [],
   "source": [
    "import pandas as pd\n",
    "\n",
    "df1 = pd.read_csv('merge1.csv')\n",
    "df2 = pd.read_csv('merge2.csv')"
   ]
  },
  {
   "cell_type": "code",
   "execution_count": 6,
   "metadata": {},
   "outputs": [
    {
     "name": "stdout",
     "output_type": "stream",
     "text": [
      "first dataframe is:\n",
      "  student name  math score\n",
      "0        isaac         100\n",
      "1        kevin          70\n",
      "2         jack          90\n",
      "3         judy          75\n"
     ]
    }
   ],
   "source": [
    "print('first dataframe is:')\n",
    "print(df1.head())"
   ]
  },
  {
   "cell_type": "code",
   "execution_count": 7,
   "metadata": {},
   "outputs": [
    {
     "name": "stdout",
     "output_type": "stream",
     "text": [
      "second dataframe is:\n",
      "  student name  english score\n",
      "0        isaac             70\n",
      "1         jack             33\n",
      "2         judy             89\n",
      "3        kevin             64\n",
      "4         alex             99\n"
     ]
    }
   ],
   "source": [
    "print('second dataframe is:')\n",
    "print(df2.head())"
   ]
  },
  {
   "cell_type": "code",
   "execution_count": 8,
   "metadata": {},
   "outputs": [
    {
     "name": "stdout",
     "output_type": "stream",
     "text": [
      "\n",
      "inner merge\n",
      "\n",
      "  student name  math score  english score\n",
      "0        isaac         100             70\n",
      "1        kevin          70             64\n",
      "2         jack          90             33\n",
      "3         judy          75             89\n"
     ]
    }
   ],
   "source": [
    "print('\\ninner merge\\n')\n",
    "inner_merge = pd.merge(df1, df2, on='student name')\n",
    "print(inner_merge.head())"
   ]
  },
  {
   "cell_type": "code",
   "execution_count": 9,
   "metadata": {},
   "outputs": [
    {
     "name": "stdout",
     "output_type": "stream",
     "text": [
      "\n",
      "outer merge\n",
      "\n",
      "  student name  math score  english score\n",
      "0        isaac       100.0             70\n",
      "1        kevin        70.0             64\n",
      "2         jack        90.0             33\n",
      "3         judy        75.0             89\n",
      "4         alex         NaN             99\n"
     ]
    }
   ],
   "source": [
    "print('\\nouter merge\\n')\n",
    "outer_merge = pd.merge(df1, df2, on='student name', how='outer')\n",
    "print(outer_merge.head())"
   ]
  }
 ],
 "metadata": {
  "kernelspec": {
   "display_name": "Python 3",
   "language": "python",
   "name": "python3"
  },
  "language_info": {
   "codemirror_mode": {
    "name": "ipython",
    "version": 3
   },
   "file_extension": ".py",
   "mimetype": "text/x-python",
   "name": "python",
   "nbconvert_exporter": "python",
   "pygments_lexer": "ipython3",
   "version": "3.6.3"
  }
 },
 "nbformat": 4,
 "nbformat_minor": 2
}
