{
 "cells": [
  {
   "cell_type": "code",
   "execution_count": 1,
   "metadata": {
    "collapsed": true
   },
   "outputs": [],
   "source": [
    "my_integer = 3\n",
    "my_float = 3.5\n",
    "my_list = [1, 3 ,10]\n",
    "my_dict = {1:'apple', 2:'banana', 3:'pineapple'}"
   ]
  },
  {
   "cell_type": "code",
   "execution_count": 2,
   "metadata": {},
   "outputs": [
    {
     "name": "stdout",
     "output_type": "stream",
     "text": [
      "type of my_integer\n",
      "<class 'int'>\n"
     ]
    }
   ],
   "source": [
    "# use type() to return variable type\n",
    "print('type of my_integer')\n",
    "print(type(my_integer))"
   ]
  },
  {
   "cell_type": "code",
   "execution_count": 3,
   "metadata": {},
   "outputs": [
    {
     "name": "stdout",
     "output_type": "stream",
     "text": [
      "type of my_list\n",
      "<class 'list'>\n"
     ]
    }
   ],
   "source": [
    "print('type of my_list')\n",
    "print(type(my_list))"
   ]
  },
  {
   "cell_type": "code",
   "execution_count": 4,
   "metadata": {},
   "outputs": [
    {
     "name": "stdout",
     "output_type": "stream",
     "text": [
      "type of my_dict\n",
      "<class 'dict'>\n"
     ]
    }
   ],
   "source": [
    "print('type of my_dict')\n",
    "print(type(my_dict))"
   ]
  },
  {
   "cell_type": "code",
   "execution_count": 5,
   "metadata": {},
   "outputs": [
    {
     "name": "stdout",
     "output_type": "stream",
     "text": [
      "length of my_list is\n",
      "3\n"
     ]
    }
   ],
   "source": [
    "# change my_integer to string\n",
    "integer_to_string = str(my_integer)\n",
    "\n",
    "# use len() function to get list length\n",
    "print('length of my_list is')\n",
    "print(len(my_list))"
   ]
  },
  {
   "cell_type": "code",
   "execution_count": 6,
   "metadata": {},
   "outputs": [
    {
     "name": "stdout",
     "output_type": "stream",
     "text": [
      "my_list[-1] is\n",
      "10\n"
     ]
    }
   ],
   "source": [
    "# negative index in python list\n",
    "print('my_list[-1] is')\n",
    "print(my_list[-1])"
   ]
  },
  {
   "cell_type": "code",
   "execution_count": 7,
   "metadata": {},
   "outputs": [
    {
     "name": "stdout",
     "output_type": "stream",
     "text": [
      "append number 25 to my_list\n",
      "[1, 3, 10, 25]\n"
     ]
    }
   ],
   "source": [
    "# append element to list\n",
    "print('append number 25 to my_list')\n",
    "my_list.append(25)\n",
    "print(my_list)"
   ]
  }
 ],
 "metadata": {
  "kernelspec": {
   "display_name": "Python 3",
   "language": "python",
   "name": "python3"
  },
  "language_info": {
   "codemirror_mode": {
    "name": "ipython",
    "version": 3
   },
   "file_extension": ".py",
   "mimetype": "text/x-python",
   "name": "python",
   "nbconvert_exporter": "python",
   "pygments_lexer": "ipython3",
   "version": "3.6.3"
  }
 },
 "nbformat": 4,
 "nbformat_minor": 2
}
