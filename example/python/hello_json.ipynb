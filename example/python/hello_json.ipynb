{
 "cells": [
  {
   "cell_type": "code",
   "execution_count": 4,
   "metadata": {},
   "outputs": [
    {
     "name": "stdout",
     "output_type": "stream",
     "text": [
      "earthquake information：\n"
     ]
    }
   ],
   "source": [
    "import json, datetime\n",
    "\n",
    "fp = open('earthquake.json','r')\n",
    "earthquakes = json.load(fp)\n",
    "\n",
    "print(\"earthquake information：\")"
   ]
  },
  {
   "cell_type": "code",
   "execution_count": 5,
   "metadata": {},
   "outputs": [
    {
     "name": "stdout",
     "output_type": "stream",
     "text": [
      "place:230km SE of Sarangani, Philippines\n",
      "magnitude:6.5\n",
      "time:1452530287.07\n",
      "place:32km NW of Fairview, Oklahoma\n",
      "magnitude:4.1\n",
      "time:1452140878.78\n",
      "place:4km NNW of Banning, California\n",
      "magnitude:4.4\n",
      "time:1452091354.88\n"
     ]
    }
   ],
   "source": [
    "for eq in earthquakes['features']:\n",
    "    print(\"place:{}\".format(eq['properties']['place']))\n",
    "    print(\"magnitude:{}\".format(eq['properties']['mag']))\n",
    "    et = float(eq['properties']['time']) /1000.0\n",
    "    print(\"time:{}\".format(et))"
   ]
  }
 ],
 "metadata": {
  "kernelspec": {
   "display_name": "Python 3",
   "language": "python",
   "name": "python3"
  },
  "language_info": {
   "codemirror_mode": {
    "name": "ipython",
    "version": 3
   },
   "file_extension": ".py",
   "mimetype": "text/x-python",
   "name": "python",
   "nbconvert_exporter": "python",
   "pygments_lexer": "ipython3",
   "version": "3.6.3"
  }
 },
 "nbformat": 4,
 "nbformat_minor": 2
}
