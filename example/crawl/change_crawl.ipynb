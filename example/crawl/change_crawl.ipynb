{
 "cells": [
  {
   "cell_type": "code",
   "execution_count": 1,
   "metadata": {},
   "outputs": [],
   "source": [
    "# -*- coding: utf-8 -*-\n",
    "import requests\n",
    "import hashlib\n",
    "import os\n",
    "from bs4 import BeautifulSoup"
   ]
  },
  {
   "cell_type": "code",
   "execution_count": 2,
   "metadata": {},
   "outputs": [],
   "source": [
    "url = 'http://www.ntu.edu.tw/'\n",
    "response = requests.get(url)\n",
    "response.encoding = 'utf-8'\n",
    "sig = hashlib.md5(response.text.encode('utf-8')).hexdigest()\n",
    "old_sig=''"
   ]
  },
  {
   "cell_type": "code",
   "execution_count": 3,
   "metadata": {},
   "outputs": [],
   "source": [
    "if os.path.exists('eq_sig.txt'):\n",
    "    with open('eq_sig.txt', 'r') as fp:\n",
    "        old_sig = fp.read()\n",
    "    with open('eq_sig.txt', 'w') as fp:\n",
    "        fp.write(sig)\n",
    "else:\n",
    "    with open('eq_sig.txt', 'w') as fp:\n",
    "        fp.write(sig)"
   ]
  },
  {
   "cell_type": "code",
   "execution_count": 4,
   "metadata": {},
   "outputs": [
    {
     "name": "stdout",
     "output_type": "stream",
     "text": [
      "data update! Start analysis data\n"
     ]
    }
   ],
   "source": [
    "if sig == old_sig:\n",
    "    print('data not update, don\\'t need parse data')\n",
    "    exit()\t\n",
    "else:\n",
    "    print('data update! Start analysis data')\n",
    "    \n",
    "    '''\n",
    "\tuse beautifulsoup or regular expression to analysis data ... ....\n",
    "    '''\t"
   ]
  }
 ],
 "metadata": {
  "kernelspec": {
   "display_name": "Python 3",
   "language": "python",
   "name": "python3"
  },
  "language_info": {
   "codemirror_mode": {
    "name": "ipython",
    "version": 3
   },
   "file_extension": ".py",
   "mimetype": "text/x-python",
   "name": "python",
   "nbconvert_exporter": "python",
   "pygments_lexer": "ipython3",
   "version": "3.6.3"
  }
 },
 "nbformat": 4,
 "nbformat_minor": 2
}
