{
 "cells": [
  {
   "cell_type": "code",
   "execution_count": 1,
   "metadata": {},
   "outputs": [],
   "source": [
    "import requests\n",
    "from bs4 import BeautifulSoup\n",
    "response = requests.get(\"https://isaac60103.github.io/crawl_course/example/beautifulsoup_example.html\")\n",
    "response.encoding = 'utf-8'\n",
    "\n",
    "soup = BeautifulSoup(response.text, 'html.parser')"
   ]
  },
  {
   "cell_type": "code",
   "execution_count": 2,
   "metadata": {},
   "outputs": [
    {
     "name": "stdout",
     "output_type": "stream",
     "text": [
      "find the first h1 tag\n",
      "<h1>Beautifulsoup example</h1>\n",
      "\n",
      "\n"
     ]
    }
   ],
   "source": [
    "print('find the first h1 tag')\n",
    "print(soup.find(\"h1\"))\n",
    "print('\\n')"
   ]
  },
  {
   "cell_type": "code",
   "execution_count": 3,
   "metadata": {},
   "outputs": [
    {
     "name": "stdout",
     "output_type": "stream",
     "text": [
      "show the first h1 tag content\n",
      "Beautifulsoup example\n",
      "\n",
      "\n"
     ]
    }
   ],
   "source": [
    "print('show the first h1 tag content')\n",
    "print(soup.find(\"h1\").text)\n",
    "print('\\n')"
   ]
  },
  {
   "cell_type": "code",
   "execution_count": 4,
   "metadata": {},
   "outputs": [
    {
     "name": "stdout",
     "output_type": "stream",
     "text": [
      "find the first td tag\n",
      "<td> row2 column1 </td>\n",
      "\n",
      "\n"
     ]
    }
   ],
   "source": [
    "print('find the first td tag')\n",
    "print(soup.find(\"td\")) \n",
    "print('\\n')"
   ]
  },
  {
   "cell_type": "code",
   "execution_count": 5,
   "metadata": {},
   "outputs": [
    {
     "name": "stdout",
     "output_type": "stream",
     "text": [
      "show the first td tag content\n",
      " row2 column1 \n",
      "\n",
      "\n"
     ]
    }
   ],
   "source": [
    "print('show the first td tag content')\n",
    "print(soup.find(\"td\").text) \n",
    "print('\\n')"
   ]
  },
  {
   "cell_type": "code",
   "execution_count": 6,
   "metadata": {},
   "outputs": [
    {
     "name": "stdout",
     "output_type": "stream",
     "text": [
      "find all td tag\n",
      "[<td> row2 column1 </td>, <td class=\"group1\"> row2 column2 (class=\"group1\") </td>, <td>\n",
      "<a href=\"https://www.google.com.tw/\">row2 column3 (this is google link)</a>\n",
      "</td>, <td>\n",
      "<a href=\"https://www.youtube.com/\">row2 column4 (this is youtube link) </a>\n",
      "</td>, <td value=\"5566\">row3 column1 </td>, <td>row3 column2\n",
      "\t\t\t\t<ol>\n",
      "<li class=\"group2\"> li tag (class=\"group2\") </li>\n",
      "<li> li tag </li>\n",
      "</ol>\n",
      "</td>, <td>\n",
      "<a href=\"http://www.ntu.edu.tw/\" id=\"ntu_link\"> row3 column3 (this is ntu link)</a>\n",
      "</td>, <td class=\"group3\">row3 column4 (class=\"group3\")</td>]\n",
      "\n",
      "\n"
     ]
    }
   ],
   "source": [
    "print('find all td tag')\n",
    "print(soup.find_all(\"td\")) \n",
    "print('\\n')"
   ]
  },
  {
   "cell_type": "code",
   "execution_count": 7,
   "metadata": {},
   "outputs": [
    {
     "name": "stdout",
     "output_type": "stream",
     "text": [
      "find all tag with class = group1\n",
      "[<div class=\"group1\" id=\"id1\">\n",
      "\tthis is div tag (class=\"group1\")\n",
      "\t</div>, <td class=\"group1\"> row2 column2 (class=\"group1\") </td>]\n",
      "\n",
      "\n"
     ]
    }
   ],
   "source": [
    "print('find all tag with class = group1')\n",
    "print(soup.find_all(\"\", {\"class\":\"group1\"})) \n",
    "print('\\n')"
   ]
  },
  {
   "cell_type": "code",
   "execution_count": 8,
   "metadata": {},
   "outputs": [
    {
     "name": "stdout",
     "output_type": "stream",
     "text": [
      "show the first div tag with id=id1\n",
      "\n",
      "\tthis is div tag (class=\"group1\")\n",
      "\t\n",
      "\n",
      "\n"
     ]
    }
   ],
   "source": [
    "print('show the first div tag with id=id1')\n",
    "print(soup.find(\"div\", id = \"id1\").text)\n",
    "print(\"\\n\")"
   ]
  },
  {
   "cell_type": "code",
   "execution_count": 9,
   "metadata": {},
   "outputs": [
    {
     "name": "stdout",
     "output_type": "stream",
     "text": [
      "find all tag with text= hello_python\n",
      "['hello_python']\n",
      "\n",
      "\n"
     ]
    }
   ],
   "source": [
    "print('find all tag with text= hello_python')\n",
    "print(soup.find_all(text = \"hello_python\")) \n",
    "print(\"\\n\")"
   ]
  },
  {
   "cell_type": "code",
   "execution_count": 10,
   "metadata": {},
   "outputs": [
    {
     "name": "stdout",
     "output_type": "stream",
     "text": [
      "find third td tag\n",
      "<td>\n",
      "<a href=\"https://www.google.com.tw/\">row2 column3 (this is google link)</a>\n",
      "</td>\n",
      "\n",
      "\n"
     ]
    }
   ],
   "source": [
    "print('find third td tag')\n",
    "print(soup.find_all(\"td\")[2])  \n",
    "print(\"\\n\")"
   ]
  },
  {
   "cell_type": "code",
   "execution_count": 11,
   "metadata": {},
   "outputs": [
    {
     "name": "stdout",
     "output_type": "stream",
     "text": [
      "find a tag within third td tag\n",
      "<a href=\"https://www.google.com.tw/\">row2 column3 (this is google link)</a>\n",
      "\n",
      "\n"
     ]
    }
   ],
   "source": [
    "print('find a tag within third td tag')\n",
    "print(soup.find_all(\"td\")[2].find(\"a\"))\n",
    "print(\"\\n\")"
   ]
  },
  {
   "cell_type": "code",
   "execution_count": 12,
   "metadata": {},
   "outputs": [
    {
     "name": "stdout",
     "output_type": "stream",
     "text": [
      "find the first a tag and return href\n",
      "https://www.google.com.tw/\n"
     ]
    }
   ],
   "source": [
    "print('find the first a tag and return href')\n",
    "print(soup.find(\"a\")['href'])   "
   ]
  }
 ],
 "metadata": {
  "kernelspec": {
   "display_name": "Python 3",
   "language": "python",
   "name": "python3"
  },
  "language_info": {
   "codemirror_mode": {
    "name": "ipython",
    "version": 3
   },
   "file_extension": ".py",
   "mimetype": "text/x-python",
   "name": "python",
   "nbconvert_exporter": "python",
   "pygments_lexer": "ipython3",
   "version": "3.6.3"
  }
 },
 "nbformat": 4,
 "nbformat_minor": 2
}
