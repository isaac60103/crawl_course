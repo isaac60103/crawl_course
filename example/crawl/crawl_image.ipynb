{
 "cells": [
  {
   "cell_type": "code",
   "execution_count": 1,
   "metadata": {},
   "outputs": [],
   "source": [
    "# -*- coding: utf-8 -*-\n",
    "import requests\n",
    "from bs4 import BeautifulSoup\n",
    "from urllib.request import urlretrieve"
   ]
  },
  {
   "cell_type": "code",
   "execution_count": 2,
   "metadata": {},
   "outputs": [],
   "source": [
    "url = 'https://www.thsrc.com.tw/tw/TimeTable/SearchResult'\n",
    "response = requests.get(url)\n",
    "response.encoding = 'utf-8'"
   ]
  },
  {
   "cell_type": "code",
   "execution_count": 3,
   "metadata": {},
   "outputs": [],
   "source": [
    "soup = BeautifulSoup(response.text, 'html.parser')\n",
    "#print(soup)\n",
    "all_imgs = soup.find_all('img')"
   ]
  },
  {
   "cell_type": "code",
   "execution_count": 4,
   "metadata": {},
   "outputs": [
    {
     "name": "stdout",
     "output_type": "stream",
     "text": [
      "/Content/img/revision01_24hrs.jpg\n",
      "https://www.thsrc.com.tw/Content/img/revision01_24hrs.jpg\n",
      "/Content/img/revision07_facebook.png\n",
      "https://www.thsrc.com.tw/Content/img/revision07_facebook.png\n",
      "/Content/img/revision07_youtube.png\n",
      "https://www.thsrc.com.tw/Content/img/revision07_youtube.png\n",
      "/Content/img/revision08_badge01.jpg\n",
      "https://www.thsrc.com.tw/Content/img/revision08_badge01.jpg\n"
     ]
    }
   ],
   "source": [
    "for index, img in enumerate(all_imgs):\n",
    "    if index!=0:\n",
    "        print(img['src'])\n",
    "        print('https://www.thsrc.com.tw'+img['src'])\n",
    "        urlretrieve('https://www.thsrc.com.tw'+img['src'], img['src'].split('/')[-1])"
   ]
  }
 ],
 "metadata": {
  "kernelspec": {
   "display_name": "Python 3",
   "language": "python",
   "name": "python3"
  },
  "language_info": {
   "codemirror_mode": {
    "name": "ipython",
    "version": 3
   },
   "file_extension": ".py",
   "mimetype": "text/x-python",
   "name": "python",
   "nbconvert_exporter": "python",
   "pygments_lexer": "ipython3",
   "version": "3.6.3"
  }
 },
 "nbformat": 4,
 "nbformat_minor": 2
}
