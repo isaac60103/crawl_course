{
 "cells": [
  {
   "cell_type": "code",
   "execution_count": 5,
   "metadata": {},
   "outputs": [],
   "source": [
    "import sqlite3\n",
    "\n",
    "conn = sqlite3.connect('test.db')"
   ]
  },
  {
   "cell_type": "code",
   "execution_count": 6,
   "metadata": {},
   "outputs": [],
   "source": [
    "first_number = 20 \n",
    "second_number = 10"
   ]
  },
  {
   "cell_type": "code",
   "execution_count": 7,
   "metadata": {},
   "outputs": [],
   "source": [
    "sqlstr = \"insert into test_table (field1, field2) values({},{});\".format(first_number,second_number)\n",
    "conn.execute(sqlstr)\n",
    "conn.commit()"
   ]
  },
  {
   "cell_type": "code",
   "execution_count": 8,
   "metadata": {},
   "outputs": [
    {
     "name": "stdout",
     "output_type": "stream",
     "text": [
      "0 0 10\n",
      "1 20 10\n",
      "2 20 10\n",
      "3 20 10\n",
      "4 20 10\n",
      "5 20 10\n",
      "6 20 10\n",
      "7 20 10\n",
      "8 20 10\n",
      "9 20 10\n"
     ]
    }
   ],
   "source": [
    "sqlstr = \"select * FROM test_table;\"\n",
    "cursor = conn.execute(sqlstr)\n",
    "for row in cursor:\n",
    "\tprint('{} {} {}'.format(row[0], row[1], row[2]))"
   ]
  }
 ],
 "metadata": {
  "kernelspec": {
   "display_name": "Python 3",
   "language": "python",
   "name": "python3"
  },
  "language_info": {
   "codemirror_mode": {
    "name": "ipython",
    "version": 3
   },
   "file_extension": ".py",
   "mimetype": "text/x-python",
   "name": "python",
   "nbconvert_exporter": "python",
   "pygments_lexer": "ipython3",
   "version": "3.6.3"
  }
 },
 "nbformat": 4,
 "nbformat_minor": 2
}
