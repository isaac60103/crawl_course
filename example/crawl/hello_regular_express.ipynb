{
 "cells": [
  {
   "cell_type": "code",
   "execution_count": 1,
   "metadata": {},
   "outputs": [
    {
     "name": "stdout",
     "output_type": "stream",
     "text": [
      "['abc', 'abc', 'abc']\n"
     ]
    }
   ],
   "source": [
    "import re\n",
    " \n",
    "pattern='abc'\n",
    "string='123321 abc abc abc'\n",
    "match = re.findall(pattern,string)\n",
    "print(match)"
   ]
  },
  {
   "cell_type": "code",
   "execution_count": 2,
   "metadata": {},
   "outputs": [
    {
     "name": "stdout",
     "output_type": "stream",
     "text": [
      "['aabc', 'ac', 'aabbc']\n"
     ]
    }
   ],
   "source": [
    "pattern = \"a+b*c\"\n",
    "string = 'aabc, ac, aabbccc abb, dd'\n",
    "match = re.findall(pattern, string)\n",
    "print(match)"
   ]
  },
  {
   "cell_type": "code",
   "execution_count": 3,
   "metadata": {},
   "outputs": [
    {
     "name": "stdout",
     "output_type": "stream",
     "text": [
      "['abbbbc', 'bc', 'bc']\n"
     ]
    }
   ],
   "source": [
    "pattern = \"a*b+c\"\n",
    "string = 'abbbbc, bc, bcccc,c, acc'\n",
    "match = re.findall(pattern, string)\n",
    "print(match)"
   ]
  },
  {
   "cell_type": "code",
   "execution_count": 4,
   "metadata": {},
   "outputs": [
    {
     "name": "stdout",
     "output_type": "stream",
     "text": [
      "['77', '110', '5']\n"
     ]
    }
   ],
   "source": [
    "pattern = \"[0-9]+\"\n",
    "string = 'there are 77 apples, 110 bananas, and 5 pineapples'\n",
    "match = re.findall(pattern, string)\n",
    "print(match)"
   ]
  },
  {
   "cell_type": "code",
   "execution_count": 5,
   "metadata": {},
   "outputs": [
    {
     "name": "stdout",
     "output_type": "stream",
     "text": [
      "['123', '111123', '123333', '1222223']\n"
     ]
    }
   ],
   "source": [
    "pattern = \"[1-3]+\"\n",
    "string = 'abc123, aaabbcc111123, aaa123333bbccc, 1222223'\n",
    "match =re.findall(pattern, string)\n",
    "print(match)"
   ]
  },
  {
   "cell_type": "code",
   "execution_count": 6,
   "metadata": {},
   "outputs": [
    {
     "name": "stdout",
     "output_type": "stream",
     "text": [
      "['dmit', 'omit', 'rmit']\n"
     ]
    }
   ],
   "source": [
    "pattern = \"[dor]mit\"\n",
    "string = 'admit, commit, emit, omit, permit'\n",
    "match = re.findall(pattern, string)\n",
    "print(match)"
   ]
  },
  {
   "cell_type": "code",
   "execution_count": 7,
   "metadata": {},
   "outputs": [
    {
     "name": "stdout",
     "output_type": "stream",
     "text": [
      "['isaac', 'isaaaac', 'isaaac']\n"
     ]
    }
   ],
   "source": [
    "pattern = \"isa{2,5}c\"\n",
    "string = 'These are my friends kevin, andy, isaac, isac, isaaaac, isaaac,and maggie'\n",
    "match = re.findall(pattern, string)\n",
    "print(match)"
   ]
  },
  {
   "cell_type": "code",
   "execution_count": 8,
   "metadata": {},
   "outputs": [
    {
     "name": "stdout",
     "output_type": "stream",
     "text": [
      "['ABi', 'BBc', 'CNn']\n"
     ]
    }
   ],
   "source": [
    "pattern = \"[A-Z]+[a-z]\"\n",
    "string = 'ABi, BBc, CNn, ai, be, cd'\n",
    "match = re.findall(pattern, string)\n",
    "print(match)"
   ]
  },
  {
   "cell_type": "code",
   "execution_count": 9,
   "metadata": {},
   "outputs": [
    {
     "name": "stdout",
     "output_type": "stream",
     "text": [
      "['.com.', '.ntu.', '.gov.']\n"
     ]
    }
   ],
   "source": [
    "pattern = \"\\..{3}\\.\"\n",
    "string = 'www.yahoo.com.tw , www.ntu.edu.tw , www.test.gov.tw'\n",
    "match = re.findall(pattern, string)\n",
    "print(match)"
   ]
  },
  {
   "cell_type": "code",
   "execution_count": 10,
   "metadata": {},
   "outputs": [
    {
     "name": "stdout",
     "output_type": "stream",
     "text": [
      "['I have a dream', \"I don't have to work\"]\n"
     ]
    }
   ],
   "source": [
    "pattern = \"I have a dream|I don't have to work\"\n",
    "string = 'I have a dream that I don\\'t have to work'\n",
    "match = re.findall(pattern, string)\n",
    "print(match)"
   ]
  },
  {
   "cell_type": "code",
   "execution_count": 11,
   "metadata": {},
   "outputs": [
    {
     "name": "stdout",
     "output_type": "stream",
     "text": [
      "[('isaac60103@gmail.com', 'com'), ('isaac60103@hotmail.com', 'com'), ('kevin@yahoo.com', 'com')]\n"
     ]
    }
   ],
   "source": [
    "pattern = \"([A-Za-z0-9._]+@[A-Za-z.]+(com|edu))\"\n",
    "string = 'isaac60103@gmail.com, isaac60103@hotmail.com, kevin@yahoo.com'\n",
    "match = re.findall(pattern, string)\n",
    "print(match)"
   ]
  }
 ],
 "metadata": {
  "kernelspec": {
   "display_name": "Python 3",
   "language": "python",
   "name": "python3"
  },
  "language_info": {
   "codemirror_mode": {
    "name": "ipython",
    "version": 3
   },
   "file_extension": ".py",
   "mimetype": "text/x-python",
   "name": "python",
   "nbconvert_exporter": "python",
   "pygments_lexer": "ipython3",
   "version": "3.6.3"
  }
 },
 "nbformat": 4,
 "nbformat_minor": 2
}
